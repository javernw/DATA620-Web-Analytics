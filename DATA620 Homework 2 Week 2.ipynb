{
 "cells": [
  {
   "cell_type": "markdown",
   "metadata": {},
   "source": [
    "# DATA620 Assignment 2 Week 2\n",
    "### 6/5/19\n",
    "### Javern Wilson"
   ]
  },
  {
   "cell_type": "markdown",
   "metadata": {},
   "source": [
    "#### Load Packages"
   ]
  },
  {
   "cell_type": "code",
   "execution_count": 1,
   "metadata": {},
   "outputs": [],
   "source": [
    "import networkx as net\n",
    "import matplotlib.pyplot as plt\n",
    "% matplotlib inline\n"
   ]
  },
  {
   "cell_type": "markdown",
   "metadata": {},
   "source": [
    "#### Load a graph database of your choosing from a text file or other source.\n",
    "\n",
    "##### The .txt file used as taken from [networkrepository.com](http://networkrepository.com/soc-firm-hi-tech.php)"
   ]
  },
  {
   "cell_type": "code",
   "execution_count": 2,
   "metadata": {},
   "outputs": [],
   "source": [
    "hi_tech = net.read_weighted_edgelist('soc-firm-hi-tech.txt', create_using = net.Graph(), nodetype = int)\n"
   ]
  },
  {
   "cell_type": "markdown",
   "metadata": {},
   "source": [
    "#### Create basic analysis on the graph, including the graph's diameter and at least one other metric of your choosing."
   ]
  },
  {
   "cell_type": "code",
   "execution_count": 3,
   "metadata": {},
   "outputs": [
    {
     "name": "stdout",
     "output_type": "stream",
     "text": [
      "5\n"
     ]
    }
   ],
   "source": [
    "# diameter - The greatest distance between any pair of nodes\n",
    "print net.diameter(hi_tech)"
   ]
  },
  {
   "cell_type": "code",
   "execution_count": 4,
   "metadata": {},
   "outputs": [
    {
     "name": "stdout",
     "output_type": "stream",
     "text": [
      "[1, 6, 21, 29, 2, 28]\n"
     ]
    }
   ],
   "source": [
    "# shortest path netween nodes 1 and 28\n",
    "print net.shortest_path(hi_tech, 1, 28)\n"
   ]
  },
  {
   "cell_type": "code",
   "execution_count": 5,
   "metadata": {},
   "outputs": [
    {
     "name": "stdout",
     "output_type": "stream",
     "text": [
      "[(29, 16), (24, 13), (20, 11), (11, 9), (19, 9), (33, 9), (4, 8), (14, 8), (34, 8), (35, 8), (2, 7), (13, 7), (21, 7), (6, 5), (16, 5), (30, 5), (3, 4), (7, 4), (9, 4), (12, 4), (15, 4), (18, 4), (26, 4), (27, 4), (22, 3), (5, 2), (8, 2), (23, 2), (31, 2), (1, 1), (10, 1), (28, 1), (36, 1)]\n"
     ]
    }
   ],
   "source": [
    "# Degree: Most important node, that is, the node with the most edges\n",
    "print sorted(hi_tech.degree, key=lambda x: x[1], reverse = True)"
   ]
  },
  {
   "cell_type": "markdown",
   "metadata": {},
   "source": [
    "###### Based on this 29 is the most important node"
   ]
  },
  {
   "cell_type": "code",
   "execution_count": 6,
   "metadata": {},
   "outputs": [
    {
     "name": "stdout",
     "output_type": "stream",
     "text": [
      "3.2178030303\n"
     ]
    }
   ],
   "source": [
    "# Average connectivity among nodes\n",
    "print net.average_node_connectivity(hi_tech)\n"
   ]
  },
  {
   "cell_type": "markdown",
   "metadata": {},
   "source": [
    "#### Use a visualization tool of your choice to display information."
   ]
  },
  {
   "cell_type": "code",
   "execution_count": 7,
   "metadata": {},
   "outputs": [
    {
     "name": "stdout",
     "output_type": "stream",
     "text": [
      "Name: \n",
      "Type: Graph\n",
      "Number of nodes: 33\n",
      "Number of edges: 91\n",
      "Average degree:   5.5152\n"
     ]
    },
    {
     "data": {
      "image/png": "[encoded data removed]",
      "text/plain": [
       "<Figure size 432x288 with 1 Axes>"
      ]
     },
     "metadata": {
      "needs_background": "light"
     },
     "output_type": "display_data"
    }
   ],
   "source": [
    "print net.info(hi_tech)\n",
    "\n",
    "sp = net.spring_layout(hi_tech)\n",
    "\n",
    "plt.axis(\"off\")\n",
    "\n",
    "net.draw_networkx(hi_tech, pos = sp, with_labels = True)\n",
    "plt.show()\n"
   ]
  },
  {
   "cell_type": "code",
   "execution_count": 8,
   "metadata": {},
   "outputs": [],
   "source": [
    "# Export file in a Gephi fomat\n",
    "net.write_gexf(hi_tech, \"hitech.gexf\")"
   ]
  },
  {
   "cell_type": "code",
   "execution_count": null,
   "metadata": {},
   "outputs": [],
   "source": []
  }
 ],
 "metadata": {
  "kernelspec": {
   "display_name": "Python 2",
   "language": "python",
   "name": "python2"
  },
  "language_info": {
   "codemirror_mode": {
    "name": "ipython",
    "version": 2
   },
   "file_extension": ".py",
   "mimetype": "text/x-python",
   "name": "python",
   "nbconvert_exporter": "python",
   "pygments_lexer": "ipython2",
   "version": "2.7.16"
  }
 },
 "nbformat": 4,
 "nbformat_minor": 2
}
